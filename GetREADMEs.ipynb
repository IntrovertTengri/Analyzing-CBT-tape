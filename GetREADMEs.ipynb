{
 "cells": [
  {
   "cell_type": "markdown",
   "id": "665504b9-4282-4896-a470-87a71f689850",
   "metadata": {},
   "source": [
    "Getting `README`s and texts from `About` section in the Github."
   ]
  },
  {
   "cell_type": "markdown",
   "id": "9cedb961-d138-43c7-babf-04cbe23e316f",
   "metadata": {},
   "source": [
    "# Libraries and utilities"
   ]
  },
  {
   "cell_type": "code",
   "execution_count": 1,
   "id": "73f4cc11-b158-4fe9-a865-424642288df3",
   "metadata": {},
   "outputs": [],
   "source": [
    "from bs4 import BeautifulSoup\n",
    "import requests\n",
    "from ipywidgets import IntProgress\n",
    "from IPython.display import display"
   ]
  },
  {
   "cell_type": "code",
   "execution_count": 2,
   "id": "c1909039-8f12-4fe8-94d6-dd82e6c18855",
   "metadata": {},
   "outputs": [],
   "source": [
    "def format_numbers(number):\n",
    "    str_number = str(number)\n",
    "    if len(str_number) < 3:\n",
    "        str_number = (3 - len(str_number)) * '0' + str_number\n",
    "    return str_number"
   ]
  },
  {
   "cell_type": "code",
   "execution_count": 3,
   "id": "cb5f3742-d510-4981-a47d-d7d64c6e6d01",
   "metadata": {},
   "outputs": [],
   "source": [
    "def check_CBT_exists(url):\n",
    "    request = requests.get(url)\n",
    "    if request.status_code == 200:\n",
    "        return True\n",
    "    return False"
   ]
  },
  {
   "cell_type": "code",
   "execution_count": 4,
   "id": "750ac401-3e3a-4bc8-b6e5-47735f35412c",
   "metadata": {},
   "outputs": [],
   "source": [
    "def get_text_about(url):\n",
    "    response = requests.get(url)\n",
    "    soup = BeautifulSoup(response.text, 'html.parser')\n",
    "    about_section = soup.find('p', class_='f4 my-3')\n",
    "    return about_section.text.strip()"
   ]
  },
  {
   "cell_type": "code",
   "execution_count": 5,
   "id": "6442fb56-8fb8-4c7e-a107-229066d238e3",
   "metadata": {},
   "outputs": [],
   "source": [
    "def get_readme(url):\n",
    "    readme_url = url + '/blob/main/README.md'\n",
    "    request = requests.get(url)\n",
    "    if request.status_code == 200:\n",
    "        soup = BeautifulSoup(request.text, 'html.parser')\n",
    "        readme_content = soup.find('code')\n",
    "        return readme_content.text.strip()\n",
    "    return -1"
   ]
  },
  {
   "cell_type": "markdown",
   "id": "2f8f68a5-f60c-499a-b385-79cdde0b58da",
   "metadata": {},
   "source": [
    "# Collecting `README`s and texts from `About` section"
   ]
  },
  {
   "cell_type": "code",
   "execution_count": 6,
   "id": "9b3bdf8d-ae2d-4a97-a78b-5efdbe3eb426",
   "metadata": {},
   "outputs": [
    {
     "data": {
      "application/vnd.jupyter.widget-view+json": {
       "model_id": "914635719fd04861a5e417fdf805d613",
       "version_major": 2,
       "version_minor": 0
      },
      "text/plain": [
       "IntProgress(value=1, max=1500, min=1)"
      ]
     },
     "metadata": {},
     "output_type": "display_data"
    }
   ],
   "source": [
    "cbt_readmes = {}\n",
    "cbt_abouts = {}\n",
    "cbt_id_doesnt_exist = []\n",
    "cbt_readme_is_wrong = []\n",
    "\n",
    "progress = IntProgress(min=1, max=1500)\n",
    "display(progress)\n",
    "\n",
    "for i in range(1, 1500):\n",
    "    str_number = format_numbers(i)\n",
    "    url = 'https://github.com/CBTTape/CBT' + str_number\n",
    "    if check_CBT_exists(url):\n",
    "        result = get_readme(url)\n",
    "        about_section = get_text_about(url)\n",
    "        if result == -1:\n",
    "            cbt_readme_is_wrong.append(url)\n",
    "        else:\n",
    "            cbt_abouts[i] = about_section\n",
    "            cbt_readmes[i] = result\n",
    "    else:\n",
    "        cbt_id_doesnt_exist.append(i)\n",
    "    progress.value += 1"
   ]
  },
  {
   "cell_type": "code",
   "execution_count": 7,
   "id": "b4bede8a-14df-4a03-957a-908de1cb0c80",
   "metadata": {},
   "outputs": [
    {
     "data": {
      "text/plain": [
       "489"
      ]
     },
     "execution_count": 7,
     "metadata": {},
     "output_type": "execute_result"
    }
   ],
   "source": [
    "len(cbt_id_doesnt_exist)"
   ]
  },
  {
   "cell_type": "code",
   "execution_count": 8,
   "id": "cca050aa-c173-491d-b222-791e1e127441",
   "metadata": {},
   "outputs": [
    {
     "data": {
      "text/plain": [
       "0"
      ]
     },
     "execution_count": 8,
     "metadata": {},
     "output_type": "execute_result"
    }
   ],
   "source": [
    "len(cbt_readme_is_wrong)"
   ]
  },
  {
   "cell_type": "markdown",
   "id": "d6f08ab7-7eac-4430-bebf-b64f4f8305a6",
   "metadata": {},
   "source": [
    "# Saving `README`s and `About`s"
   ]
  },
  {
   "cell_type": "code",
   "execution_count": 9,
   "id": "d2fe4b4a-9a3a-4cb5-b17f-d00cd3a5a179",
   "metadata": {},
   "outputs": [],
   "source": [
    "def create_header(number):\n",
    "    str_number = format_numbers(number)\n",
    "    header = \"CBT\" + str_number + \"\\n\"\n",
    "    return header"
   ]
  },
  {
   "cell_type": "code",
   "execution_count": 10,
   "id": "4f014682-b69e-456e-a9ba-3c616bba5ba7",
   "metadata": {},
   "outputs": [],
   "source": [
    "# CBT READMEs\n",
    "file_id = 0\n",
    "CBT_files_ids = list(cbt_readmes.keys())\n",
    "for id in CBT_files_ids:\n",
    "    file_name = \"./CBTREADMEs/\" + str(file_id) + \".txt\"\n",
    "    with open(file_name, \"w\") as file:\n",
    "        header = create_header(id)\n",
    "        file.write(header)\n",
    "        readme = cbt_readmes[id]\n",
    "        file.write(str(readme))\n",
    "    file.close()\n",
    "    file_id += 1"
   ]
  },
  {
   "cell_type": "code",
   "execution_count": 11,
   "id": "2133ff65-2c6e-4063-8055-f9696cf636f0",
   "metadata": {},
   "outputs": [],
   "source": [
    "# CBT Abouts\n",
    "file_id = 0\n",
    "CBT_files_ids = list(cbt_abouts.keys())\n",
    "for id in CBT_files_ids:\n",
    "    file_name = \"./CBTAbouts/\" + str(file_id) + \".txt\"\n",
    "    with open(file_name, \"w\") as file:\n",
    "        header = create_header(id)\n",
    "        file.write(header)\n",
    "        about = cbt_abouts[id]\n",
    "        file.write(str(about))\n",
    "    file.close()\n",
    "    file_id += 1"
   ]
  }
 ],
 "metadata": {
  "kernelspec": {
   "display_name": "Python 3 (ipykernel)",
   "language": "python",
   "name": "python3"
  },
  "language_info": {
   "codemirror_mode": {
    "name": "ipython",
    "version": 3
   },
   "file_extension": ".py",
   "mimetype": "text/x-python",
   "name": "python",
   "nbconvert_exporter": "python",
   "pygments_lexer": "ipython3",
   "version": "3.11.7"
  }
 },
 "nbformat": 4,
 "nbformat_minor": 5
}
