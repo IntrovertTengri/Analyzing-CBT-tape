{
 "cells": [
  {
   "cell_type": "markdown",
   "id": "e03a8aa8-819f-47a3-a9fd-9d59d6e9aa89",
   "metadata": {},
   "source": [
    "We will try to use existing LLMs for classification without fine-tuning because our dataset is small."
   ]
  },
  {
   "cell_type": "markdown",
   "id": "462bee67-5713-48ec-8282-dae0c823547c",
   "metadata": {},
   "source": [
    "# Libraries and utilities"
   ]
  },
  {
   "cell_type": "code",
   "execution_count": 17,
   "id": "d98e1a05-d369-4fe2-8981-3b4474f4858a",
   "metadata": {},
   "outputs": [],
   "source": [
    "import CBTTextProcessing as cbt_text\n",
    "import numpy as np\n",
    "import warnings\n",
    "warnings.filterwarnings(\"ignore\")"
   ]
  },
  {
   "cell_type": "code",
   "execution_count": 2,
   "id": "5a3935e8-fa4d-46fd-be70-b11917581ec6",
   "metadata": {},
   "outputs": [],
   "source": [
    "from ipywidgets import IntProgress\n",
    "from IPython.display import display\n",
    "from langchain_community.llms import Ollama\n",
    "from transformers import pipeline"
   ]
  },
  {
   "cell_type": "code",
   "execution_count": 18,
   "id": "f473b785-d5ae-454f-9a0e-8254160950d2",
   "metadata": {},
   "outputs": [],
   "source": [
    "def get_highest_score_and_label(scores, labels):\n",
    "    highest_score_id = np.argmax(scores)\n",
    "    return scores[highest_score_id], labels[highest_score_id]"
   ]
  },
  {
   "cell_type": "markdown",
   "id": "719cf144-baa8-468e-b006-fc7ccad5c7a4",
   "metadata": {},
   "source": [
    "# Getting data"
   ]
  },
  {
   "cell_type": "code",
   "execution_count": 10,
   "id": "d1a5597f-e63d-4bfc-b7ce-89af90aedb81",
   "metadata": {},
   "outputs": [
    {
     "data": {
      "application/vnd.jupyter.widget-view+json": {
       "model_id": "b4f83e9d1a474cc8a6a0f2fb7474ab56",
       "version_major": 2,
       "version_minor": 0
      },
      "text/plain": [
       "IntProgress(value=0, max=1010)"
      ]
     },
     "metadata": {},
     "output_type": "display_data"
    }
   ],
   "source": [
    "documents = []\n",
    "headers = []\n",
    "\n",
    "progress = IntProgress(min=0, max=1010)\n",
    "display(progress)\n",
    "\n",
    "\n",
    "for id in range(0, 1010):\n",
    "    readme_file_name = cbt_text.id_to_file_name(id, 'readme')\n",
    "    about_file_name = cbt_text.id_to_file_name(id, 'about')\n",
    "    header, readme = cbt_text.get_text_from_file(readme_file_name)\n",
    "    header, about = cbt_text.get_text_from_file(about_file_name)\n",
    "    content = 'about: ' + about + ' readme: ' + readme\n",
    "    content = cbt_text.preprocess_text(header, content)\n",
    "    headers.append(header)\n",
    "    documents.append(content)\n",
    "    progress.value += 1"
   ]
  },
  {
   "cell_type": "markdown",
   "id": "48140cf1-e1d5-43e2-b4a4-e34d21a29c1d",
   "metadata": {},
   "source": [
    "# CLassification"
   ]
  },
  {
   "cell_type": "code",
   "execution_count": 15,
   "id": "5c649ec2-eedb-43dc-bca7-b2c4918ea0e1",
   "metadata": {},
   "outputs": [],
   "source": [
    "candidate_labels = [\"tool\", \"article\", \"guide\", \"other\"]"
   ]
  },
  {
   "cell_type": "code",
   "execution_count": 28,
   "id": "fb5ada29-5a5d-486a-a2e6-04d4ce2f0b64",
   "metadata": {},
   "outputs": [],
   "source": [
    "tools = []\n",
    "other = []\n",
    "articles = []\n",
    "guides = []"
   ]
  },
  {
   "cell_type": "markdown",
   "id": "31dc33a3-c7a0-4b22-b16c-7ecf4715daf1",
   "metadata": {},
   "source": [
    "## Classification using `Bart`"
   ]
  },
  {
   "cell_type": "code",
   "execution_count": 12,
   "id": "f9309153-cb42-4a50-8447-4ae04e91942b",
   "metadata": {},
   "outputs": [],
   "source": [
    "classifier = pipeline(\"zero-shot-classification\", model=\"facebook/bart-large-mnli\", revision=\"c626438\")"
   ]
  },
  {
   "cell_type": "code",
   "execution_count": 30,
   "id": "3a26d263-4f3f-4518-b606-33526daaadec",
   "metadata": {},
   "outputs": [
    {
     "data": {
      "application/vnd.jupyter.widget-view+json": {
       "model_id": "51af2b657376437996ad4927b53defad",
       "version_major": 2,
       "version_minor": 0
      },
      "text/plain": [
       "IntProgress(value=0, max=5)"
      ]
     },
     "metadata": {},
     "output_type": "display_data"
    }
   ],
   "source": [
    "progress = IntProgress(min=0, max=5)\n",
    "display(progress)\n",
    "\n",
    "for i in range(5):\n",
    "    result = classifier(\n",
    "        documents[i],\n",
    "        candidate_labels = candidate_labels\n",
    "    )\n",
    "    score, label = get_highest_score_and_label(result['scores'], result['labels'])\n",
    "    object = {}\n",
    "    object['id'] = i\n",
    "    object['label'] = label\n",
    "    object['score'] = score\n",
    "\n",
    "    if label == 'tool':\n",
    "        tools.append(object)\n",
    "    elif label == 'other':\n",
    "        other.append(object)\n",
    "    elif label == 'article':\n",
    "        articles.append(object)\n",
    "    else:\n",
    "        guides.append(object)\n",
    "\n",
    "    progress.value += 1"
   ]
  },
  {
   "cell_type": "code",
   "execution_count": 31,
   "id": "4a20a630-bb6d-4466-98ee-d4318e348c4c",
   "metadata": {},
   "outputs": [
    {
     "name": "stdout",
     "output_type": "stream",
     "text": [
      "[{'id': 3, 'label': 'tool', 'score': 0.4068570137023926}]\n"
     ]
    }
   ],
   "source": [
    "print(tools)"
   ]
  },
  {
   "cell_type": "code",
   "execution_count": 32,
   "id": "9f65a9c5-4989-44a3-820b-450214ce6dc3",
   "metadata": {},
   "outputs": [
    {
     "name": "stdout",
     "output_type": "stream",
     "text": [
      "[{'id': 2, 'label': 'article', 'score': 0.7431250214576721}, {'id': 4, 'label': 'article', 'score': 0.36776354908943176}]\n"
     ]
    }
   ],
   "source": [
    "print(articles)"
   ]
  },
  {
   "cell_type": "code",
   "execution_count": 33,
   "id": "a6d9b615-fd51-424c-b5ed-8a9a05dc477e",
   "metadata": {},
   "outputs": [
    {
     "name": "stdout",
     "output_type": "stream",
     "text": [
      "[]\n"
     ]
    }
   ],
   "source": [
    "print(guides)"
   ]
  },
  {
   "cell_type": "code",
   "execution_count": 34,
   "id": "1d5080bb-ce01-4616-b6f0-db1d75ff789f",
   "metadata": {},
   "outputs": [
    {
     "name": "stdout",
     "output_type": "stream",
     "text": [
      "[{'id': 0, 'label': 'other', 'score': 0.393204003572464}, {'id': 1, 'label': 'other', 'score': 0.37961238622665405}]\n"
     ]
    }
   ],
   "source": [
    "print(other)"
   ]
  },
  {
   "cell_type": "code",
   "execution_count": 35,
   "id": "25d2e37e-d574-4544-bc7d-c509dae84f73",
   "metadata": {},
   "outputs": [
    {
     "name": "stdout",
     "output_type": "stream",
     "text": [
      "Tools: \n",
      "CBT010\n"
     ]
    }
   ],
   "source": [
    "print(\"Tools: \")\n",
    "for tool in tools:\n",
    "    print(headers[tool['id']])"
   ]
  },
  {
   "cell_type": "code",
   "execution_count": 36,
   "id": "c22b6017-ae74-43da-aeaa-9ba9683a0915",
   "metadata": {},
   "outputs": [
    {
     "name": "stdout",
     "output_type": "stream",
     "text": [
      "Articles: \n",
      "CBT009\n",
      "CBT011\n"
     ]
    }
   ],
   "source": [
    "print(\"Articles: \")\n",
    "for article in articles:\n",
    "    print(headers[article['id']])"
   ]
  },
  {
   "cell_type": "code",
   "execution_count": 37,
   "id": "ea51d2a0-6ce8-404f-acbf-cf3805e6fa15",
   "metadata": {},
   "outputs": [
    {
     "name": "stdout",
     "output_type": "stream",
     "text": [
      "Guides: \n"
     ]
    }
   ],
   "source": [
    "print(\"Guides: \")\n",
    "for guide in guides:\n",
    "    print(headers[guide[\"id\"]])"
   ]
  },
  {
   "cell_type": "code",
   "execution_count": 38,
   "id": "b03980a8-a7bc-44ca-b2a5-339016043a9a",
   "metadata": {},
   "outputs": [
    {
     "name": "stdout",
     "output_type": "stream",
     "text": [
      "Other: \n",
      "CBT006\n",
      "CBT008\n"
     ]
    }
   ],
   "source": [
    "print(\"Other: \")\n",
    "for o in other:\n",
    "    print(headers[o[\"id\"]])"
   ]
  }
 ],
 "metadata": {
  "kernelspec": {
   "display_name": "Python 3 (ipykernel)",
   "language": "python",
   "name": "python3"
  },
  "language_info": {
   "codemirror_mode": {
    "name": "ipython",
    "version": 3
   },
   "file_extension": ".py",
   "mimetype": "text/x-python",
   "name": "python",
   "nbconvert_exporter": "python",
   "pygments_lexer": "ipython3",
   "version": "3.11.7"
  }
 },
 "nbformat": 4,
 "nbformat_minor": 5
}
